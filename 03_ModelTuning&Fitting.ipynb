{
 "cells": [
  {
   "cell_type": "markdown",
   "metadata": {},
   "source": [
    "### Model Build + Tune\n",
    "\n",
    "In this notebook I tune the hyperparameters of the GBM model."
   ]
  },
  {
   "cell_type": "code",
   "execution_count": 18,
   "metadata": {},
   "outputs": [],
   "source": [
    "import sys\n",
    "sys.path.insert(0, './modules')\n",
    "\n",
    "# read in the new function\n",
    "from helpers import get_data\n",
    "from preprocessor import preprocessor\n",
    "\n",
    "# other imports\n",
    "\n",
    "import pandas as pd\n",
    "from sklearn.ensemble import GradientBoostingRegressor\n",
    "from sklearn.model_selection import train_test_split\n",
    "import numpy as np\n",
    "import matplotlib.pyplot as plt"
   ]
  },
  {
   "cell_type": "code",
   "execution_count": 19,
   "metadata": {
    "scrolled": true
   },
   "outputs": [
    {
     "data": {
      "text/html": [
       "<div>\n",
       "<style scoped>\n",
       "    .dataframe tbody tr th:only-of-type {\n",
       "        vertical-align: middle;\n",
       "    }\n",
       "\n",
       "    .dataframe tbody tr th {\n",
       "        vertical-align: top;\n",
       "    }\n",
       "\n",
       "    .dataframe thead th {\n",
       "        text-align: right;\n",
       "    }\n",
       "</style>\n",
       "<table border=\"1\" class=\"dataframe\">\n",
       "  <thead>\n",
       "    <tr style=\"text-align: right;\">\n",
       "      <th></th>\n",
       "      <th>parcelid</th>\n",
       "      <th>transactiondate</th>\n",
       "      <th>airconditioningtypeid</th>\n",
       "      <th>architecturalstyletypeid</th>\n",
       "      <th>basementsqft</th>\n",
       "      <th>bathroomcnt</th>\n",
       "      <th>bedroomcnt</th>\n",
       "      <th>buildingclasstypeid</th>\n",
       "      <th>buildingqualitytypeid</th>\n",
       "      <th>calculatedbathnbr</th>\n",
       "      <th>...</th>\n",
       "      <th>numberofstories</th>\n",
       "      <th>fireplaceflag</th>\n",
       "      <th>structuretaxvaluedollarcnt</th>\n",
       "      <th>taxvaluedollarcnt</th>\n",
       "      <th>assessmentyear</th>\n",
       "      <th>landtaxvaluedollarcnt</th>\n",
       "      <th>taxamount</th>\n",
       "      <th>taxdelinquencyflag</th>\n",
       "      <th>taxdelinquencyyear</th>\n",
       "      <th>censustractandblock</th>\n",
       "    </tr>\n",
       "  </thead>\n",
       "  <tbody>\n",
       "    <tr>\n",
       "      <td>0</td>\n",
       "      <td>11016594</td>\n",
       "      <td>2016-01-01</td>\n",
       "      <td>1.0</td>\n",
       "      <td>NaN</td>\n",
       "      <td>NaN</td>\n",
       "      <td>2.0</td>\n",
       "      <td>3.0</td>\n",
       "      <td>NaN</td>\n",
       "      <td>4.0</td>\n",
       "      <td>2.0</td>\n",
       "      <td>...</td>\n",
       "      <td>NaN</td>\n",
       "      <td>NaN</td>\n",
       "      <td>122754.0</td>\n",
       "      <td>360170.0</td>\n",
       "      <td>2015.0</td>\n",
       "      <td>237416.0</td>\n",
       "      <td>6735.88</td>\n",
       "      <td>NaN</td>\n",
       "      <td>NaN</td>\n",
       "      <td>6.037107e+13</td>\n",
       "    </tr>\n",
       "    <tr>\n",
       "      <td>1</td>\n",
       "      <td>14366692</td>\n",
       "      <td>2016-01-01</td>\n",
       "      <td>NaN</td>\n",
       "      <td>NaN</td>\n",
       "      <td>NaN</td>\n",
       "      <td>3.5</td>\n",
       "      <td>4.0</td>\n",
       "      <td>NaN</td>\n",
       "      <td>NaN</td>\n",
       "      <td>3.5</td>\n",
       "      <td>...</td>\n",
       "      <td>NaN</td>\n",
       "      <td>NaN</td>\n",
       "      <td>346458.0</td>\n",
       "      <td>585529.0</td>\n",
       "      <td>2015.0</td>\n",
       "      <td>239071.0</td>\n",
       "      <td>10153.02</td>\n",
       "      <td>NaN</td>\n",
       "      <td>NaN</td>\n",
       "      <td>NaN</td>\n",
       "    </tr>\n",
       "    <tr>\n",
       "      <td>2</td>\n",
       "      <td>12098116</td>\n",
       "      <td>2016-01-01</td>\n",
       "      <td>1.0</td>\n",
       "      <td>NaN</td>\n",
       "      <td>NaN</td>\n",
       "      <td>3.0</td>\n",
       "      <td>2.0</td>\n",
       "      <td>NaN</td>\n",
       "      <td>4.0</td>\n",
       "      <td>3.0</td>\n",
       "      <td>...</td>\n",
       "      <td>NaN</td>\n",
       "      <td>NaN</td>\n",
       "      <td>61994.0</td>\n",
       "      <td>119906.0</td>\n",
       "      <td>2015.0</td>\n",
       "      <td>57912.0</td>\n",
       "      <td>11484.48</td>\n",
       "      <td>NaN</td>\n",
       "      <td>NaN</td>\n",
       "      <td>6.037464e+13</td>\n",
       "    </tr>\n",
       "    <tr>\n",
       "      <td>3</td>\n",
       "      <td>12643413</td>\n",
       "      <td>2016-01-02</td>\n",
       "      <td>1.0</td>\n",
       "      <td>NaN</td>\n",
       "      <td>NaN</td>\n",
       "      <td>2.0</td>\n",
       "      <td>2.0</td>\n",
       "      <td>NaN</td>\n",
       "      <td>4.0</td>\n",
       "      <td>2.0</td>\n",
       "      <td>...</td>\n",
       "      <td>NaN</td>\n",
       "      <td>NaN</td>\n",
       "      <td>171518.0</td>\n",
       "      <td>244880.0</td>\n",
       "      <td>2015.0</td>\n",
       "      <td>73362.0</td>\n",
       "      <td>3048.74</td>\n",
       "      <td>NaN</td>\n",
       "      <td>NaN</td>\n",
       "      <td>6.037296e+13</td>\n",
       "    </tr>\n",
       "    <tr>\n",
       "      <td>4</td>\n",
       "      <td>14432541</td>\n",
       "      <td>2016-01-02</td>\n",
       "      <td>NaN</td>\n",
       "      <td>NaN</td>\n",
       "      <td>NaN</td>\n",
       "      <td>2.5</td>\n",
       "      <td>4.0</td>\n",
       "      <td>NaN</td>\n",
       "      <td>NaN</td>\n",
       "      <td>2.5</td>\n",
       "      <td>...</td>\n",
       "      <td>2.0</td>\n",
       "      <td>NaN</td>\n",
       "      <td>169574.0</td>\n",
       "      <td>434551.0</td>\n",
       "      <td>2015.0</td>\n",
       "      <td>264977.0</td>\n",
       "      <td>5488.96</td>\n",
       "      <td>NaN</td>\n",
       "      <td>NaN</td>\n",
       "      <td>6.059042e+13</td>\n",
       "    </tr>\n",
       "  </tbody>\n",
       "</table>\n",
       "<p>5 rows × 59 columns</p>\n",
       "</div>"
      ],
      "text/plain": [
       "   parcelid transactiondate  airconditioningtypeid  architecturalstyletypeid  \\\n",
       "0  11016594      2016-01-01                    1.0                       NaN   \n",
       "1  14366692      2016-01-01                    NaN                       NaN   \n",
       "2  12098116      2016-01-01                    1.0                       NaN   \n",
       "3  12643413      2016-01-02                    1.0                       NaN   \n",
       "4  14432541      2016-01-02                    NaN                       NaN   \n",
       "\n",
       "   basementsqft  bathroomcnt  bedroomcnt  buildingclasstypeid  \\\n",
       "0           NaN          2.0         3.0                  NaN   \n",
       "1           NaN          3.5         4.0                  NaN   \n",
       "2           NaN          3.0         2.0                  NaN   \n",
       "3           NaN          2.0         2.0                  NaN   \n",
       "4           NaN          2.5         4.0                  NaN   \n",
       "\n",
       "   buildingqualitytypeid  calculatedbathnbr  ...  numberofstories  \\\n",
       "0                    4.0                2.0  ...              NaN   \n",
       "1                    NaN                3.5  ...              NaN   \n",
       "2                    4.0                3.0  ...              NaN   \n",
       "3                    4.0                2.0  ...              NaN   \n",
       "4                    NaN                2.5  ...              2.0   \n",
       "\n",
       "   fireplaceflag  structuretaxvaluedollarcnt  taxvaluedollarcnt  \\\n",
       "0            NaN                    122754.0           360170.0   \n",
       "1            NaN                    346458.0           585529.0   \n",
       "2            NaN                     61994.0           119906.0   \n",
       "3            NaN                    171518.0           244880.0   \n",
       "4            NaN                    169574.0           434551.0   \n",
       "\n",
       "   assessmentyear  landtaxvaluedollarcnt  taxamount  taxdelinquencyflag  \\\n",
       "0          2015.0               237416.0    6735.88                 NaN   \n",
       "1          2015.0               239071.0   10153.02                 NaN   \n",
       "2          2015.0                57912.0   11484.48                 NaN   \n",
       "3          2015.0                73362.0    3048.74                 NaN   \n",
       "4          2015.0               264977.0    5488.96                 NaN   \n",
       "\n",
       "   taxdelinquencyyear  censustractandblock  \n",
       "0                 NaN         6.037107e+13  \n",
       "1                 NaN                  NaN  \n",
       "2                 NaN         6.037464e+13  \n",
       "3                 NaN         6.037296e+13  \n",
       "4                 NaN         6.059042e+13  \n",
       "\n",
       "[5 rows x 59 columns]"
      ]
     },
     "execution_count": 19,
     "metadata": {},
     "output_type": "execute_result"
    }
   ],
   "source": [
    "X, y= get_data('train')\n",
    "X.head()"
   ]
  },
  {
   "cell_type": "code",
   "execution_count": 25,
   "metadata": {},
   "outputs": [],
   "source": [
    "#preprocessor copy and pasted from 02_Preprocessing Notebook"
   ]
  },
  {
   "cell_type": "code",
   "execution_count": 21,
   "metadata": {},
   "outputs": [],
   "source": [
    "\n",
    "class preprocessor:\n",
    "    \n",
    "    \n",
    "    def __init__(self, cols_to_filter=None, datecols=None):\n",
    "        \n",
    "        self.cols_to_filter = cols_to_filter\n",
    "        self.datecols = datecols\n",
    "        self.was_fit = False\n",
    "    \n",
    "    def fit(self, X, y=None):\n",
    "        \"\"\"learn any information from the training data we may need to transform the test data\"\"\"\n",
    "        \n",
    "        # learn from the training data and return the class itself. \n",
    "        # allows you to chain fit and predict methods like \n",
    "        \n",
    "        # > p = preprocessor()\n",
    "        # > p.fit(X).transform(X)\n",
    "        \n",
    "        self.was_fit = True\n",
    "        \n",
    "        # filter\n",
    "        X_new = X.drop(self.cols_to_filter, axis=1)\n",
    "        \n",
    "        categorical_features = X_new.dtypes[X_new.dtypes == 'object'].index\n",
    "        self.categorical_features = [x for x in categorical_features if 'date' not in x]\n",
    "        \n",
    "        dummied = pd.get_dummies(X_new, columns=self.categorical_features, dummy_na=True)\n",
    "        self.colnames = dummied.columns\n",
    "        del dummied\n",
    "        \n",
    "        return self\n",
    "    \n",
    "    def transform(self, X, y=None):\n",
    "        \"\"\"transform the training or test data\"\"\"\n",
    "        # transform the training or test data based on class attributes learned in the `fit` step\n",
    "        \n",
    "        if not self.was_fit:\n",
    "            raise Error(\"need to fit preprocessor first\")\n",
    "        \n",
    "        # filter\n",
    "        X_new = X.drop(self.cols_to_filter, axis=1)\n",
    "\n",
    "        # dummy code\n",
    "        X_new = pd.get_dummies(X_new, columns=self.categorical_features, dummy_na=True)\n",
    "        newcols = set(self.colnames) - set(X_new.columns)\n",
    "        for x in newcols:\n",
    "            X_new[x] = 0\n",
    "            \n",
    "        X_new = X_new[self.colnames]\n",
    "                \n",
    "        # fill NA after we dummy code\n",
    "        X_new = X_new.fillna(-1)\n",
    "        \n",
    "        if self.datecols:\n",
    "            for x in self.datecols:\n",
    "                X_new[x + '_month'] = pd.to_datetime(X_new[x]).apply(lambda x: x.month)\n",
    "                X_new[x + '_year'] = pd.to_datetime(X_new[x]).apply(lambda x: x.year)\n",
    "                X_new = X_new.drop(x, axis=1)\n",
    "        \n",
    "        return X_new\n",
    "    \n",
    "    def fit_transform(self, X, y=None):\n",
    "        \"\"\"fit and transform wrapper method, used for sklearn pipeline\"\"\"\n",
    "\n",
    "        return self.fit(X).transform(X)"
   ]
  },
  {
   "cell_type": "code",
   "execution_count": 22,
   "metadata": {},
   "outputs": [],
   "source": [
    "# use preprocess on the training data\n",
    "p=preprocessor(cols_to_filter = ['rawcensustractandblock', 'censustractandblock', 'propertyzoningdesc', 'regionidneighborhood', 'regionidzip', 'parcelid'], datecols=['transactiondate'])\n",
    "\n",
    "X = p.fit_transform(X)"
   ]
  },
  {
   "cell_type": "code",
   "execution_count": 23,
   "metadata": {},
   "outputs": [
    {
     "data": {
      "text/html": [
       "<div>\n",
       "<style scoped>\n",
       "    .dataframe tbody tr th:only-of-type {\n",
       "        vertical-align: middle;\n",
       "    }\n",
       "\n",
       "    .dataframe tbody tr th {\n",
       "        vertical-align: top;\n",
       "    }\n",
       "\n",
       "    .dataframe thead th {\n",
       "        text-align: right;\n",
       "    }\n",
       "</style>\n",
       "<table border=\"1\" class=\"dataframe\">\n",
       "  <thead>\n",
       "    <tr style=\"text-align: right;\">\n",
       "      <th></th>\n",
       "      <th>airconditioningtypeid</th>\n",
       "      <th>architecturalstyletypeid</th>\n",
       "      <th>basementsqft</th>\n",
       "      <th>bathroomcnt</th>\n",
       "      <th>bedroomcnt</th>\n",
       "      <th>buildingclasstypeid</th>\n",
       "      <th>buildingqualitytypeid</th>\n",
       "      <th>calculatedbathnbr</th>\n",
       "      <th>decktypeid</th>\n",
       "      <th>finishedfloor1squarefeet</th>\n",
       "      <th>...</th>\n",
       "      <th>propertycountylandusecode_73</th>\n",
       "      <th>propertycountylandusecode_8800</th>\n",
       "      <th>propertycountylandusecode_96</th>\n",
       "      <th>propertycountylandusecode_nan</th>\n",
       "      <th>fireplaceflag_True</th>\n",
       "      <th>fireplaceflag_nan</th>\n",
       "      <th>taxdelinquencyflag_Y</th>\n",
       "      <th>taxdelinquencyflag_nan</th>\n",
       "      <th>transactiondate_month</th>\n",
       "      <th>transactiondate_year</th>\n",
       "    </tr>\n",
       "  </thead>\n",
       "  <tbody>\n",
       "    <tr>\n",
       "      <td>0</td>\n",
       "      <td>1.0</td>\n",
       "      <td>-1.0</td>\n",
       "      <td>-1.0</td>\n",
       "      <td>2.0</td>\n",
       "      <td>3.0</td>\n",
       "      <td>-1.0</td>\n",
       "      <td>4.0</td>\n",
       "      <td>2.0</td>\n",
       "      <td>-1.0</td>\n",
       "      <td>-1.0</td>\n",
       "      <td>...</td>\n",
       "      <td>0</td>\n",
       "      <td>0</td>\n",
       "      <td>0</td>\n",
       "      <td>0</td>\n",
       "      <td>0</td>\n",
       "      <td>1</td>\n",
       "      <td>0</td>\n",
       "      <td>1</td>\n",
       "      <td>1</td>\n",
       "      <td>2016</td>\n",
       "    </tr>\n",
       "    <tr>\n",
       "      <td>1</td>\n",
       "      <td>-1.0</td>\n",
       "      <td>-1.0</td>\n",
       "      <td>-1.0</td>\n",
       "      <td>3.5</td>\n",
       "      <td>4.0</td>\n",
       "      <td>-1.0</td>\n",
       "      <td>-1.0</td>\n",
       "      <td>3.5</td>\n",
       "      <td>-1.0</td>\n",
       "      <td>-1.0</td>\n",
       "      <td>...</td>\n",
       "      <td>0</td>\n",
       "      <td>0</td>\n",
       "      <td>0</td>\n",
       "      <td>0</td>\n",
       "      <td>0</td>\n",
       "      <td>1</td>\n",
       "      <td>0</td>\n",
       "      <td>1</td>\n",
       "      <td>1</td>\n",
       "      <td>2016</td>\n",
       "    </tr>\n",
       "    <tr>\n",
       "      <td>2</td>\n",
       "      <td>1.0</td>\n",
       "      <td>-1.0</td>\n",
       "      <td>-1.0</td>\n",
       "      <td>3.0</td>\n",
       "      <td>2.0</td>\n",
       "      <td>-1.0</td>\n",
       "      <td>4.0</td>\n",
       "      <td>3.0</td>\n",
       "      <td>-1.0</td>\n",
       "      <td>-1.0</td>\n",
       "      <td>...</td>\n",
       "      <td>0</td>\n",
       "      <td>0</td>\n",
       "      <td>0</td>\n",
       "      <td>0</td>\n",
       "      <td>0</td>\n",
       "      <td>1</td>\n",
       "      <td>0</td>\n",
       "      <td>1</td>\n",
       "      <td>1</td>\n",
       "      <td>2016</td>\n",
       "    </tr>\n",
       "    <tr>\n",
       "      <td>3</td>\n",
       "      <td>1.0</td>\n",
       "      <td>-1.0</td>\n",
       "      <td>-1.0</td>\n",
       "      <td>2.0</td>\n",
       "      <td>2.0</td>\n",
       "      <td>-1.0</td>\n",
       "      <td>4.0</td>\n",
       "      <td>2.0</td>\n",
       "      <td>-1.0</td>\n",
       "      <td>-1.0</td>\n",
       "      <td>...</td>\n",
       "      <td>0</td>\n",
       "      <td>0</td>\n",
       "      <td>0</td>\n",
       "      <td>0</td>\n",
       "      <td>0</td>\n",
       "      <td>1</td>\n",
       "      <td>0</td>\n",
       "      <td>1</td>\n",
       "      <td>1</td>\n",
       "      <td>2016</td>\n",
       "    </tr>\n",
       "    <tr>\n",
       "      <td>4</td>\n",
       "      <td>-1.0</td>\n",
       "      <td>-1.0</td>\n",
       "      <td>-1.0</td>\n",
       "      <td>2.5</td>\n",
       "      <td>4.0</td>\n",
       "      <td>-1.0</td>\n",
       "      <td>-1.0</td>\n",
       "      <td>2.5</td>\n",
       "      <td>-1.0</td>\n",
       "      <td>-1.0</td>\n",
       "      <td>...</td>\n",
       "      <td>0</td>\n",
       "      <td>0</td>\n",
       "      <td>0</td>\n",
       "      <td>0</td>\n",
       "      <td>0</td>\n",
       "      <td>1</td>\n",
       "      <td>0</td>\n",
       "      <td>1</td>\n",
       "      <td>1</td>\n",
       "      <td>2016</td>\n",
       "    </tr>\n",
       "  </tbody>\n",
       "</table>\n",
       "<p>5 rows × 134 columns</p>\n",
       "</div>"
      ],
      "text/plain": [
       "   airconditioningtypeid  architecturalstyletypeid  basementsqft  bathroomcnt  \\\n",
       "0                    1.0                      -1.0          -1.0          2.0   \n",
       "1                   -1.0                      -1.0          -1.0          3.5   \n",
       "2                    1.0                      -1.0          -1.0          3.0   \n",
       "3                    1.0                      -1.0          -1.0          2.0   \n",
       "4                   -1.0                      -1.0          -1.0          2.5   \n",
       "\n",
       "   bedroomcnt  buildingclasstypeid  buildingqualitytypeid  calculatedbathnbr  \\\n",
       "0         3.0                 -1.0                    4.0                2.0   \n",
       "1         4.0                 -1.0                   -1.0                3.5   \n",
       "2         2.0                 -1.0                    4.0                3.0   \n",
       "3         2.0                 -1.0                    4.0                2.0   \n",
       "4         4.0                 -1.0                   -1.0                2.5   \n",
       "\n",
       "   decktypeid  finishedfloor1squarefeet  ...  propertycountylandusecode_73  \\\n",
       "0        -1.0                      -1.0  ...                             0   \n",
       "1        -1.0                      -1.0  ...                             0   \n",
       "2        -1.0                      -1.0  ...                             0   \n",
       "3        -1.0                      -1.0  ...                             0   \n",
       "4        -1.0                      -1.0  ...                             0   \n",
       "\n",
       "   propertycountylandusecode_8800  propertycountylandusecode_96  \\\n",
       "0                               0                             0   \n",
       "1                               0                             0   \n",
       "2                               0                             0   \n",
       "3                               0                             0   \n",
       "4                               0                             0   \n",
       "\n",
       "   propertycountylandusecode_nan  fireplaceflag_True  fireplaceflag_nan  \\\n",
       "0                              0                   0                  1   \n",
       "1                              0                   0                  1   \n",
       "2                              0                   0                  1   \n",
       "3                              0                   0                  1   \n",
       "4                              0                   0                  1   \n",
       "\n",
       "   taxdelinquencyflag_Y  taxdelinquencyflag_nan  transactiondate_month  \\\n",
       "0                     0                       1                      1   \n",
       "1                     0                       1                      1   \n",
       "2                     0                       1                      1   \n",
       "3                     0                       1                      1   \n",
       "4                     0                       1                      1   \n",
       "\n",
       "   transactiondate_year  \n",
       "0                  2016  \n",
       "1                  2016  \n",
       "2                  2016  \n",
       "3                  2016  \n",
       "4                  2016  \n",
       "\n",
       "[5 rows x 134 columns]"
      ]
     },
     "execution_count": 23,
     "metadata": {},
     "output_type": "execute_result"
    }
   ],
   "source": [
    "X.head()"
   ]
  },
  {
   "cell_type": "markdown",
   "metadata": {},
   "source": [
    "### Define Success\n",
    "\n",
    "The final model parameters will be based on the evaluation criteria used by the Kaggle competition, Mean Squared Error."
   ]
  },
  {
   "cell_type": "code",
   "execution_count": 24,
   "metadata": {},
   "outputs": [
    {
     "name": "stdout",
     "output_type": "stream",
     "text": [
      "def mean_abs_error(y_true, y_pred):\n",
      "    return np.mean(np.abs(y_true - y_pred))\n",
      "\n"
     ]
    }
   ],
   "source": [
    "from helpers import mean_abs_error\n",
    "import inspect\n",
    "print(inspect.getsource(mean_abs_error))"
   ]
  },
  {
   "cell_type": "markdown",
   "metadata": {},
   "source": [
    "### Parameter Tuning and Model Selection\n",
    "We are still only leveraging the training data"
   ]
  },
  {
   "cell_type": "code",
   "execution_count": 31,
   "metadata": {},
   "outputs": [],
   "source": [
    "def select_params(X, y, max_estimators=1000, max_depth = 3, learning_rate=0.01):\n",
    "\n",
    "    # in-time tune set\n",
    "    X_train, X_tune, y_train, y_tune = train_test_split(X, y, test_size=0.33, random_state=0, shuffle=True)\n",
    "    \n",
    "    # out-of-time tune set\n",
    "    # train_index = X.transactiondate.argsort()[:int(len(X)*0.67)]\n",
    "    # tune_index = X.transactiondate.argsort()[int(len(X)*0.67):]\n",
    "    # X_train = X.iloc[train_index]\n",
    "    # X_tune = X.iloc[tune_index]\n",
    "    # y_train = y.iloc[train_index]\n",
    "    # y_tune = y.iloc[tune_index]\n",
    "\n",
    "    gbm = GradientBoostingRegressor(n_estimators = max_estimators, learning_rate=learning_rate, \n",
    "                                    max_depth=max_depth, loss='lad', subsample=0.5)\n",
    "\n",
    "    gbm.fit(X_train, y_train)\n",
    "\n",
    "    test_score = np.zeros((max_estimators,), dtype=np.float64)\n",
    "\n",
    "    for i, y_pred in enumerate(gbm.staged_predict(X_tune)):\n",
    "        test_score[i] = mean_abs_error(y_tune, y_pred)\n",
    "        \n",
    "    print('optimal number of trees: {0}'.format(test_score.argmin()))\n",
    "    print('best MAE: {0}'.format(test_score.min()))\n",
    "    print('baseline MAE: {0}'.format(mean_abs_error(y_tune, y_train.median())))\n",
    "    pd.Series(test_score).plot(title='learning curve for max_depth = {0}'.format(max_depth))\n",
    "    plt.show()"
   ]
  },
  {
   "cell_type": "markdown",
   "metadata": {},
   "source": [
    "### Tune Tree Depth\n",
    "'learning_rate' and 'max_estimators' are indirectly-correlated; the higher the learning rate the fewer trees are needed. Increasing the learning rate will make the models fit faster. This comes with a bit of a hit to accuracy though, so a popular technique is to tune the tree depth with a higher learning rate and then tune the number of trees with a lower learning rate."
   ]
  },
  {
   "cell_type": "code",
   "execution_count": 33,
   "metadata": {},
   "outputs": [
    {
     "name": "stdout",
     "output_type": "stream",
     "text": [
      "***** training for max depth = 2 *****\n",
      "optimal number of trees: 538\n",
      "best MAE: 0.0670813421874875\n",
      "baseline MAE: 0.06803804369747765\n"
     ]
    },
    {
     "data": {
      "image/png": "[encoded data removed]",
      "text/plain": [
       "<Figure size 432x288 with 1 Axes>"
      ]
     },
     "metadata": {
      "needs_background": "light"
     },
     "output_type": "display_data"
    },
    {
     "name": "stdout",
     "output_type": "stream",
     "text": [
      "***** training for max depth = 3 *****\n",
      "optimal number of trees: 435\n",
      "best MAE: 0.06709945059252274\n",
      "baseline MAE: 0.06803804369747765\n"
     ]
    },
    {
     "data": {
      "image/png": "[encoded data removed]",
      "text/plain": [
       "<Figure size 432x288 with 1 Axes>"
      ]
     },
     "metadata": {
      "needs_background": "light"
     },
     "output_type": "display_data"
    },
    {
     "name": "stdout",
     "output_type": "stream",
     "text": [
      "***** training for max depth = 4 *****\n",
      "optimal number of trees: 182\n",
      "best MAE: 0.06711932431156699\n",
      "baseline MAE: 0.06803804369747765\n"
     ]
    },
    {
     "data": {
      "image/png": "[encoded data removed]",
      "text/plain": [
       "<Figure size 432x288 with 1 Axes>"
      ]
     },
     "metadata": {
      "needs_background": "light"
     },
     "output_type": "display_data"
    }
   ],
   "source": [
    "for depth in [2, 3, 4]:\n",
    "    print('***** training for max depth = {0} *****'.format(depth))\n",
    "    select_params(X, y, max_estimators=1000, max_depth=depth, learning_rate=0.1)"
   ]
  },
  {
   "cell_type": "code",
   "execution_count": 34,
   "metadata": {},
   "outputs": [
    {
     "name": "stdout",
     "output_type": "stream",
     "text": [
      "optimal number of trees: 560\n",
      "best MAE: 0.06712509883803039\n",
      "baseline MAE: 0.06803804369747765\n"
     ]
    },
    {
     "data": {
      "image/png": "[encoded data removed]",
      "text/plain": [
       "<Figure size 432x288 with 1 Axes>"
      ]
     },
     "metadata": {
      "needs_background": "light"
     },
     "output_type": "display_data"
    }
   ],
   "source": [
    "select_params(X, y, max_estimators=2000, max_depth=2, learning_rate=0.1)"
   ]
  },
  {
   "cell_type": "markdown",
   "metadata": {},
   "source": [
    "### Final Parameters\n",
    "The final parameters settled on are:\n"
   ]
  },
  {
   "cell_type": "markdown",
   "metadata": {},
   "source": [
    "* n_estimators = 1000\n",
    "* learning_rate = 0.1\n",
    "* max_depth = 2\n",
    "* loss = 'lad'\n",
    "* subsample = 0.5"
   ]
  },
  {
   "cell_type": "markdown",
   "metadata": {},
   "source": [
    "### Fit and Save the Final Model"
   ]
  },
  {
   "cell_type": "code",
   "execution_count": 35,
   "metadata": {},
   "outputs": [],
   "source": [
    "import sys\n",
    "sys.path.insert(0, './modules')\n",
    "\n",
    "#read in new function\n",
    "from helpers import get_data, mean_abs_error\n",
    "from preprocessor import preprocessor\n",
    "from sklearn.ensemble import GradientBoostingRegressor\n",
    "from sklearn.pipeline import Pipeline\n",
    "import pandas as pd\n",
    "import numpy as np\n",
    "import matplotlib.pyplot as plt"
   ]
  },
  {
   "cell_type": "markdown",
   "metadata": {},
   "source": [
    "### Create Model Object\n",
    "\n",
    "We'll use a Scikit-Learn Pipeline to combine the preprocessing and GBM steps in one package.\n",
    "\n",
    "The pipeline object called `my_model` implements `fit` and `predict` methods (among others). When we call the `fit` method, the pipeline will execute `preprocessor.fit_transform()` on the data we pass in the arguments, then pass the results to `GradientBoostingRegressor.fit()`. Similarly, when we call the `predict` method, it will execute `preprocessor.transform()` and then `GradientBoostingRegressor.predict()`.\n",
    "\n",
    "Another benefit of living into the `fit`, `transform`, `predict` paradigm of Scikit-Learn is that we can add other preprocessing steps (such as PCA) into the pipeline with little modifications to the existing code. Finally, if any of the steps required parameter tuning, we can tune all at once by implementing the steps in a pipeline then using a parameter selection method like Grid Search on the entire pipeline. "
   ]
  },
  {
   "cell_type": "code",
   "execution_count": 41,
   "metadata": {},
   "outputs": [],
   "source": [
    "#copy/paste 'preprocessor'"
   ]
  },
  {
   "cell_type": "code",
   "execution_count": 39,
   "metadata": {},
   "outputs": [],
   "source": [
    "class preprocessor:\n",
    "    \n",
    "    \n",
    "    def __init__(self, cols_to_filter=None, datecols=None):\n",
    "        \n",
    "        self.cols_to_filter = cols_to_filter\n",
    "        self.datecols = datecols\n",
    "        self.was_fit = False\n",
    "    \n",
    "    def fit(self, X, y=None):\n",
    "        \"\"\"learn any information from the training data we may need to transform the test data\"\"\"\n",
    "        \n",
    "        # learn from the training data and return the class itself. \n",
    "        # allows you to chain fit and predict methods like \n",
    "        \n",
    "        # > p = preprocessor()\n",
    "        # > p.fit(X).transform(X)\n",
    "        \n",
    "        self.was_fit = True\n",
    "        \n",
    "        # filter\n",
    "        X_new = X.drop(self.cols_to_filter, axis=1)\n",
    "        \n",
    "        categorical_features = X_new.dtypes[X_new.dtypes == 'object'].index\n",
    "        self.categorical_features = [x for x in categorical_features if 'date' not in x]\n",
    "        \n",
    "        dummied = pd.get_dummies(X_new, columns=self.categorical_features, dummy_na=True)\n",
    "        self.colnames = dummied.columns\n",
    "        del dummied\n",
    "        \n",
    "        return self\n",
    "    \n",
    "    def transform(self, X, y=None):\n",
    "        \"\"\"transform the training or test data\"\"\"\n",
    "        # transform the training or test data based on class attributes learned in the `fit` step\n",
    "        \n",
    "        if not self.was_fit:\n",
    "            raise Error(\"need to fit preprocessor first\")\n",
    "        \n",
    "        # filter\n",
    "        X_new = X.drop(self.cols_to_filter, axis=1)\n",
    "\n",
    "        # dummy code\n",
    "        X_new = pd.get_dummies(X_new, columns=self.categorical_features, dummy_na=True)\n",
    "        newcols = set(self.colnames) - set(X_new.columns)\n",
    "        for x in newcols:\n",
    "            X_new[x] = 0\n",
    "            \n",
    "        X_new = X_new[self.colnames]\n",
    "                \n",
    "        # fill NA after we dummy code\n",
    "        X_new = X_new.fillna(-1)\n",
    "        \n",
    "        if self.datecols:\n",
    "            for x in self.datecols:\n",
    "                X_new[x + '_month'] = pd.to_datetime(X_new[x]).apply(lambda x: x.month)\n",
    "                X_new[x + '_year'] = pd.to_datetime(X_new[x]).apply(lambda x: x.year)\n",
    "                X_new = X_new.drop(x, axis=1)\n",
    "        \n",
    "        return X_new\n",
    "    \n",
    "    def fit_transform(self, X, y=None):\n",
    "        \"\"\"fit and transform wrapper method, used for sklearn pipeline\"\"\"\n",
    "\n",
    "        return self.fit(X).transform(X)"
   ]
  },
  {
   "cell_type": "code",
   "execution_count": 40,
   "metadata": {},
   "outputs": [],
   "source": [
    "p = preprocessor(cols_to_filter = ['rawcensustractandblock', 'censustractandblock', 'propertyzoningdesc', \n",
    "                                 'regionidneighborhood', 'regionidzip', 'parcelid'], datecols=['transactiondate'])\n",
    "\n",
    "gbm = GradientBoostingRegressor(n_estimators = 1000, learning_rate=0.1, max_depth=2, loss='lad', subsample=0.5)\n",
    "\n",
    "my_model = Pipeline([('preprocessor', p), ('regressor', gbm)])"
   ]
  },
  {
   "cell_type": "markdown",
   "metadata": {},
   "source": [
    "### Fit Final Model"
   ]
  },
  {
   "cell_type": "code",
   "execution_count": 42,
   "metadata": {},
   "outputs": [
    {
     "name": "stderr",
     "output_type": "stream",
     "text": [
      "/opt/anaconda3/lib/python3.7/site-packages/IPython/core/interactiveshell.py:3326: DtypeWarning: Columns (22,32,34,49,55) have mixed types. Specify dtype option on import or set low_memory=False.\n",
      "  exec(code_obj, self.user_global_ns, self.user_ns)\n"
     ]
    }
   ],
   "source": [
    "X_train, y_train = get_data('train')"
   ]
  },
  {
   "cell_type": "code",
   "execution_count": 43,
   "metadata": {},
   "outputs": [
    {
     "data": {
      "text/plain": [
       "Pipeline(memory=None,\n",
       "         steps=[('preprocessor',\n",
       "                 <__main__.preprocessor object at 0x1a67f69fd0>),\n",
       "                ('regressor',\n",
       "                 GradientBoostingRegressor(alpha=0.9, criterion='friedman_mse',\n",
       "                                           init=None, learning_rate=0.1,\n",
       "                                           loss='lad', max_depth=2,\n",
       "                                           max_features=None,\n",
       "                                           max_leaf_nodes=None,\n",
       "                                           min_impurity_decrease=0.0,\n",
       "                                           min_impurity_split=None,\n",
       "                                           min_samples_leaf=1,\n",
       "                                           min_samples_split=2,\n",
       "                                           min_weight_fraction_leaf=0.0,\n",
       "                                           n_estimators=1000,\n",
       "                                           n_iter_no_change=None,\n",
       "                                           presort='auto', random_state=None,\n",
       "                                           subsample=0.5, tol=0.0001,\n",
       "                                           validation_fraction=0.1, verbose=0,\n",
       "                                           warm_start=False))],\n",
       "         verbose=False)"
      ]
     },
     "execution_count": 43,
     "metadata": {},
     "output_type": "execute_result"
    }
   ],
   "source": [
    "my_model.fit(X_train, y_train)"
   ]
  },
  {
   "cell_type": "markdown",
   "metadata": {},
   "source": [
    "### Score Test Dataset\n",
    "\n",
    "We will only do this once (or a handful of times) to avoid overfitting the test set. This test dataset was released after the Kaggle competition was over, but is not the same format as what is scored as part of the competition. The final evaluation will be making a Kaggle submission (optional) however we can use this test set to visualize our model results on an out-of-time test set, meaning this data is from another period as data we trained on the model."
   ]
  },
  {
   "cell_type": "code",
   "execution_count": 45,
   "metadata": {},
   "outputs": [],
   "source": [
    "X_test, y_test = get_data('test')\n",
    "y_pred = my_model.predict(X_test)"
   ]
  },
  {
   "cell_type": "markdown",
   "metadata": {},
   "source": [
    "### Evaluate Model"
   ]
  },
  {
   "cell_type": "code",
   "execution_count": 46,
   "metadata": {},
   "outputs": [
    {
     "data": {
      "text/plain": [
       "0.06992835708871278"
      ]
     },
     "execution_count": 46,
     "metadata": {},
     "output_type": "execute_result"
    }
   ],
   "source": [
    "#using the naive median prediction method\n",
    "mean_abs_error(y_test, y_train.mean())"
   ]
  },
  {
   "cell_type": "code",
   "execution_count": 47,
   "metadata": {},
   "outputs": [
    {
     "data": {
      "text/plain": [
       "0.06923136602797725"
      ]
     },
     "execution_count": 47,
     "metadata": {},
     "output_type": "execute_result"
    }
   ],
   "source": [
    "#using our actual model\n",
    "mean_abs_error(y_test, y_pred)"
   ]
  },
  {
   "cell_type": "markdown",
   "metadata": {},
   "source": [
    "### Plot Model Results"
   ]
  },
  {
   "cell_type": "markdown",
   "metadata": {},
   "source": [
    "#### Actuals vs. Predictions"
   ]
  },
  {
   "cell_type": "code",
   "execution_count": 49,
   "metadata": {},
   "outputs": [
    {
     "data": {
      "image/png": "[encoded data removed]",
      "text/plain": [
       "<Figure size 432x288 with 1 Axes>"
      ]
     },
     "metadata": {
      "needs_background": "light"
     },
     "output_type": "display_data"
    }
   ],
   "source": [
    "fig, ax = plt.subplots()\n",
    "ax.scatter(y_test, y_pred, s=1)\n",
    "ax.set_title('Actuals vs. Predictions')\n",
    "ax.set_xlabel('True')\n",
    "ax.set_ylabel('Prediction')\n",
    "ax.set_ylim(-5, 5)\n",
    "plt.show()"
   ]
  },
  {
   "cell_type": "markdown",
   "metadata": {},
   "source": [
    "The plot shows exactly where our lack of predictive power is come from - Our model is predicting every really close to the average or median (probably median given the choice of loss function) instead of making useful predictions."
   ]
  },
  {
   "cell_type": "markdown",
   "metadata": {},
   "source": [
    "#### Distribution of Actuals and Predictions"
   ]
  },
  {
   "cell_type": "code",
   "execution_count": 51,
   "metadata": {},
   "outputs": [
    {
     "data": {
      "image/png": "[encoded data removed]",
      "text/plain": [
       "<Figure size 432x288 with 1 Axes>"
      ]
     },
     "metadata": {
      "needs_background": "light"
     },
     "output_type": "display_data"
    }
   ],
   "source": [
    "def plot_hists(y_pred, y_true):\n",
    "    \n",
    "    fig, ax = plt.subplots()\n",
    "    bins = np.linspace(-3, 3, 30)\n",
    "    ax.hist([y_pred, y_true], label=['pred', 'true'], alpha=0.5, bins=bins, log=True)\n",
    "    plt.legend(loc = 'upper right')\n",
    "    plt.show()\n",
    "    \n",
    "plot_hists(y_pred, y_test)"
   ]
  },
  {
   "cell_type": "markdown",
   "metadata": {},
   "source": [
    "Notice that our model prediction have far less variance than our true response values."
   ]
  },
  {
   "cell_type": "code",
   "execution_count": 54,
   "metadata": {},
   "outputs": [
    {
     "data": {
      "image/png": "[encoded data removed]",
      "text/plain": [
       "<Figure size 288x576 with 1 Axes>"
      ]
     },
     "metadata": {
      "needs_background": "light"
     },
     "output_type": "display_data"
    }
   ],
   "source": [
    "def feat_imp_plot(sk_model, feat_names, N_feature):\n",
    "    \n",
    "    feature_importance = sk_model.feature_importances_\n",
    "    feature_importance = 100.0 * feature_importance / feature_importance.max()\n",
    "    sorted_idx = np.argsort(feature_importance)\n",
    "    total_features = sorted_idx.shape[0]\n",
    "    pos = np.arange(total_features) + .5\n",
    "    \n",
    "    fig, ax = plt.subplots(figsize=(4,8))\n",
    "    ax.barh(pos, feature_importance[sorted_idx], align='center')\n",
    "    ax.set_yticks(pos)\n",
    "    ax.set_yticklabels(fnames[sorted_idx])\n",
    "    ax.set_ylim(total_features-N_feature, total_features)\n",
    "    ax.set_xlabel('Relative Importance')\n",
    "   \n",
    "    plt.title('Variable Importance')\n",
    "    plt.show()\n",
    "    \n",
    "fnames = my_model.steps[0][1].transform(pd.DataFrame(X_test.iloc[0]).T).columns\n",
    "feat_imp_plot(my_model.steps[1][1], fnames, 15)"
   ]
  },
  {
   "cell_type": "markdown",
   "metadata": {},
   "source": [
    "These feature importances are on the model for predicting the error between the Zestimate and the actual sale price, so we can conclude that the features are the ones Zillow's model aren't fully capturing signal from."
   ]
  },
  {
   "cell_type": "code",
   "execution_count": 55,
   "metadata": {},
   "outputs": [],
   "source": [
    "!mkdir - models"
   ]
  },
  {
   "cell_type": "code",
   "execution_count": 57,
   "metadata": {},
   "outputs": [
    {
     "data": {
      "text/plain": [
       "['models/model.pk1']"
      ]
     },
     "execution_count": 57,
     "metadata": {},
     "output_type": "execute_result"
    }
   ],
   "source": [
    "from sklearn.externals import joblib\n",
    "joblib.dump(my_model, 'models/model.pk1')"
   ]
  },
  {
   "cell_type": "code",
   "execution_count": null,
   "metadata": {},
   "outputs": [],
   "source": []
  }
 ],
 "metadata": {
  "kernelspec": {
   "display_name": "Python 3",
   "language": "python",
   "name": "python3"
  },
  "language_info": {
   "codemirror_mode": {
    "name": "ipython",
    "version": 3
   },
   "file_extension": ".py",
   "mimetype": "text/x-python",
   "name": "python",
   "nbconvert_exporter": "python",
   "pygments_lexer": "ipython3",
   "version": "3.7.4"
  }
 },
 "nbformat": 4,
 "nbformat_minor": 2
}
